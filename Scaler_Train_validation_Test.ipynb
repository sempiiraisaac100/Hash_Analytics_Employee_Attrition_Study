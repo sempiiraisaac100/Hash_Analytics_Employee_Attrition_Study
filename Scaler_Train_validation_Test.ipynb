{
 "cells": [
  {
   "cell_type": "markdown",
   "metadata": {},
   "source": [
    "### Creating and Saving Standard_Scaler, Train, Validation, and Test Data_Sets"
   ]
  },
  {
   "cell_type": "code",
   "execution_count": 1,
   "metadata": {},
   "outputs": [],
   "source": [
    "import numpy as np\n",
    "import pandas as pd\n",
    "import scipy\n",
    "import pickle\n",
    "\n",
    "\n",
    "from pandas import Series,DataFrame\n",
    "from sklearn.preprocessing import StandardScaler"
   ]
  },
  {
   "cell_type": "markdown",
   "metadata": {},
   "source": [
    "#### Laoding the allEmployees_balanced dataset"
   ]
  },
  {
   "cell_type": "code",
   "execution_count": 2,
   "metadata": {},
   "outputs": [],
   "source": [
    "allEmployees_balanced = pd.read_csv('allEmployees_balanced.csv')"
   ]
  },
  {
   "cell_type": "code",
   "execution_count": 3,
   "metadata": {},
   "outputs": [],
   "source": [
    "# getting inputs of all columns in the csv, except EmpID and the status_num (targets)\n",
    "unscaled_inputs = allEmployees_balanced.iloc[:,1:-1]\n",
    "\n",
    "# getting targets from the last column\n",
    "targets = allEmployees_balanced.iloc[:,-1]"
   ]
  },
  {
   "cell_type": "code",
   "execution_count": 4,
   "metadata": {},
   "outputs": [],
   "source": [
    "# Creating a standard scaler object\n",
    "scaler_deep_learning = StandardScaler()\n",
    "\n",
    "# Fitting and transforming unscaled_inputs\n",
    "scaled_inputs = scaler_deep_learning.fit_transform(unscaled_inputs)"
   ]
  },
  {
   "cell_type": "markdown",
   "metadata": {},
   "source": [
    "#### Creating Train,Validation and Test Data"
   ]
  },
  {
   "cell_type": "code",
   "execution_count": 5,
   "metadata": {},
   "outputs": [
    {
     "name": "stdout",
     "output_type": "stream",
     "text": [
      "2878 5713 0.5037633467530195\n",
      "350 714 0.49019607843137253\n",
      "343 715 0.4797202797202797\n"
     ]
    }
   ],
   "source": [
    "# Counting the total number of samples\n",
    "samples_count = scaled_inputs.shape[0]\n",
    "\n",
    "#creating a 80-10-10 distribution of training, validation, and test data\n",
    "train_samples_count = int(0.8 * samples_count)\n",
    "validation_samples_count = int(0.1 * samples_count)\n",
    "\n",
    "# test_samples_count will contain remaining data.\n",
    "test_samples_count = samples_count - train_samples_count - validation_samples_count\n",
    "\n",
    "\n",
    "# getting the inputs and targets for training using the first train_samples_count\n",
    "train_inputs = scaled_inputs[:train_samples_count]\n",
    "train_targets = targets[:train_samples_count]\n",
    "\n",
    "\n",
    "# getting the inputs and targets for validation using the train_samples_count and validation_samples_count(after train data)\n",
    "validation_inputs = scaled_inputs[train_samples_count:train_samples_count+validation_samples_count]\n",
    "validation_targets = targets[train_samples_count:train_samples_count+validation_samples_count]\n",
    "\n",
    "# getting inputs and targets for validation using the train_samples_count and validation_samples_count(after validation data)\n",
    "test_inputs = scaled_inputs[train_samples_count+validation_samples_count:]\n",
    "test_targets = targets[train_samples_count+validation_samples_count:]\n",
    "\n",
    "\n",
    "#Checking if the training, validation, and test data created is balanced too with equal 0's and 1's each \n",
    "#Printing number of 1's targets,total number of samples, and proportion for training, validation, and test respectively\n",
    "print(np.sum(train_targets), train_samples_count, np.sum(train_targets) / train_samples_count)\n",
    "print(np.sum(validation_targets), validation_samples_count, np.sum(validation_targets) / validation_samples_count)\n",
    "print(np.sum(test_targets), test_samples_count, np.sum(test_targets) / test_samples_count)"
   ]
  },
  {
   "cell_type": "code",
   "execution_count": 6,
   "metadata": {},
   "outputs": [],
   "source": [
    "# Saving the three datasets in *.npz. for use in a neural network.\n",
    "np.savez('Employee_attrition_data_train', inputs=train_inputs, targets=train_targets)\n",
    "np.savez('Employee_attrition_data_validation', inputs=validation_inputs, targets=validation_targets)\n",
    "np.savez('Employee_attrition_data_test', inputs=test_inputs, targets=test_targets)"
   ]
  },
  {
   "cell_type": "code",
   "execution_count": 7,
   "metadata": {},
   "outputs": [],
   "source": [
    "#saving the scaler files to be applied on our new dataset during prediction of the created model\n",
    "pickle.dump(scaler_deep_learning, open('scaler_deep_learning.pickle', 'wb'))"
   ]
  }
 ],
 "metadata": {
  "kernelspec": {
   "display_name": "Python 3",
   "language": "python",
   "name": "python3"
  },
  "language_info": {
   "codemirror_mode": {
    "name": "ipython",
    "version": 3
   },
   "file_extension": ".py",
   "mimetype": "text/x-python",
   "name": "python",
   "nbconvert_exporter": "python",
   "pygments_lexer": "ipython3",
   "version": "3.8.5"
  }
 },
 "nbformat": 4,
 "nbformat_minor": 4
}
