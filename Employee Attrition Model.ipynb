{
 "cells": [
  {
   "cell_type": "code",
   "execution_count": 1,
   "metadata": {},
   "outputs": [],
   "source": [
    "import numpy as np\n",
    "import tensorflow as tf"
   ]
  },
  {
   "cell_type": "markdown",
   "metadata": {},
   "source": [
    "### Loading train, validation and test data"
   ]
  },
  {
   "cell_type": "code",
   "execution_count": 2,
   "metadata": {},
   "outputs": [],
   "source": [
    "#creating a temporary variable npz,to store each of the three Employee_attrition datasets\n",
    "npz = np.load('Employee_attrition_data_train.npz')\n",
    "\n",
    "# extracting the inputs and making them floats\n",
    "train_inputs = npz['inputs'].astype(np.float)\n",
    "\n",
    "# casting targets to int for the sparse_categorical_crossentropy to smoothly one-hot encode them\n",
    "train_targets = npz['targets'].astype(np.int)\n",
    "\n",
    "#loading the validation data\n",
    "npz = np.load('Employee_attrition_data_validation.npz')\n",
    "validation_inputs, validation_targets = npz['inputs'].astype(np.float), npz['targets'].astype(np.int)\n",
    "\n",
    "#loading the test data\n",
    "npz = np.load('Employee_attrition_data_test.npz')\n",
    "test_inputs, test_targets = npz['inputs'].astype(np.float), npz['targets'].astype(np.int)"
   ]
  },
  {
   "cell_type": "markdown",
   "metadata": {},
   "source": [
    "### Building the model"
   ]
  },
  {
   "cell_type": "code",
   "execution_count": 3,
   "metadata": {},
   "outputs": [
    {
     "name": "stdout",
     "output_type": "stream",
     "text": [
      "Epoch 1/100\n",
      "58/58 - 2s - loss: 0.5095 - accuracy: 0.7956 - val_loss: 0.3383 - val_accuracy: 0.8866\n",
      "Epoch 2/100\n",
      "58/58 - 0s - loss: 0.2940 - accuracy: 0.8920 - val_loss: 0.2374 - val_accuracy: 0.9188\n",
      "Epoch 3/100\n",
      "58/58 - 0s - loss: 0.2323 - accuracy: 0.9146 - val_loss: 0.2107 - val_accuracy: 0.9286\n",
      "Epoch 4/100\n",
      "58/58 - 0s - loss: 0.2144 - accuracy: 0.9214 - val_loss: 0.2007 - val_accuracy: 0.9356\n",
      "Epoch 5/100\n",
      "58/58 - 0s - loss: 0.2058 - accuracy: 0.9240 - val_loss: 0.1919 - val_accuracy: 0.9356\n",
      "Epoch 6/100\n",
      "58/58 - 0s - loss: 0.1973 - accuracy: 0.9274 - val_loss: 0.1902 - val_accuracy: 0.9342\n",
      "Epoch 7/100\n",
      "58/58 - 0s - loss: 0.1923 - accuracy: 0.9310 - val_loss: 0.1859 - val_accuracy: 0.9342\n",
      "Epoch 8/100\n",
      "58/58 - 0s - loss: 0.1874 - accuracy: 0.9337 - val_loss: 0.1832 - val_accuracy: 0.9370\n",
      "Epoch 9/100\n",
      "58/58 - 0s - loss: 0.1837 - accuracy: 0.9344 - val_loss: 0.1825 - val_accuracy: 0.9384\n",
      "Epoch 10/100\n",
      "58/58 - 0s - loss: 0.1801 - accuracy: 0.9356 - val_loss: 0.1768 - val_accuracy: 0.9384\n",
      "Epoch 11/100\n",
      "58/58 - 0s - loss: 0.1774 - accuracy: 0.9365 - val_loss: 0.1768 - val_accuracy: 0.9412\n",
      "Epoch 12/100\n",
      "58/58 - 0s - loss: 0.1721 - accuracy: 0.9379 - val_loss: 0.1734 - val_accuracy: 0.9398\n",
      "Epoch 13/100\n",
      "58/58 - 0s - loss: 0.1686 - accuracy: 0.9401 - val_loss: 0.1749 - val_accuracy: 0.9412\n",
      "Epoch 14/100\n",
      "58/58 - 0s - loss: 0.1669 - accuracy: 0.9414 - val_loss: 0.1730 - val_accuracy: 0.9412\n",
      "Epoch 15/100\n",
      "58/58 - 0s - loss: 0.1640 - accuracy: 0.9396 - val_loss: 0.1697 - val_accuracy: 0.9454\n",
      "Epoch 16/100\n",
      "58/58 - 0s - loss: 0.1615 - accuracy: 0.9429 - val_loss: 0.1679 - val_accuracy: 0.9440\n",
      "Epoch 17/100\n",
      "58/58 - 0s - loss: 0.1577 - accuracy: 0.9419 - val_loss: 0.1666 - val_accuracy: 0.9454\n",
      "Epoch 18/100\n",
      "58/58 - 0s - loss: 0.1567 - accuracy: 0.9429 - val_loss: 0.1665 - val_accuracy: 0.9454\n",
      "Epoch 19/100\n",
      "58/58 - 0s - loss: 0.1536 - accuracy: 0.9433 - val_loss: 0.1662 - val_accuracy: 0.9454\n",
      "Epoch 20/100\n",
      "58/58 - 0s - loss: 0.1502 - accuracy: 0.9457 - val_loss: 0.1620 - val_accuracy: 0.9468\n",
      "Epoch 21/100\n",
      "58/58 - 0s - loss: 0.1509 - accuracy: 0.9452 - val_loss: 0.1593 - val_accuracy: 0.9468\n",
      "Epoch 22/100\n",
      "58/58 - 0s - loss: 0.1480 - accuracy: 0.9447 - val_loss: 0.1657 - val_accuracy: 0.9454\n",
      "Epoch 23/100\n",
      "58/58 - 0s - loss: 0.1448 - accuracy: 0.9473 - val_loss: 0.1612 - val_accuracy: 0.9454\n"
     ]
    },
    {
     "data": {
      "text/plain": [
       "<tensorflow.python.keras.callbacks.History at 0x1f4252d89a0>"
      ]
     },
     "execution_count": 3,
     "metadata": {},
     "output_type": "execute_result"
    }
   ],
   "source": [
    "# Setting the output size given a known 9 input_size\n",
    "output_size = 2\n",
    "\n",
    "# Using the same hidden layer size for both hidden layers\n",
    "hidden_layer_size = 50\n",
    "    \n",
    "# defining how the model looks\n",
    "model = tf.keras.Sequential([\n",
    "    \n",
    "    # 1st hidden layer\n",
    "    tf.keras.layers.Dense(hidden_layer_size, activation='relu'), \n",
    "    \n",
    "    # 2nd hidden layer\n",
    "    tf.keras.layers.Dense(hidden_layer_size, activation='relu'), \n",
    "\n",
    "    # output layer\n",
    "    tf.keras.layers.Dense(output_size, activation='softmax') \n",
    "])\n",
    "\n",
    "\n",
    "#Choosing the optimizer and the loss function\n",
    "\n",
    "model.compile(optimizer='adam', loss='sparse_categorical_crossentropy', metrics=['accuracy'])\n",
    "\n",
    "#Training our built model\n",
    "\n",
    "# setting the batch size\n",
    "batch_size = 100\n",
    "\n",
    "# setting a maximum number of training epochs\n",
    "max_epochs = 100\n",
    "\n",
    "# setting an early stopping mechanism to slightly tolerate the random validation loss increases by patience=2\n",
    "early_stopping = tf.keras.callbacks.EarlyStopping(patience=2)\n",
    "\n",
    "# fitting the model\n",
    "model.fit(train_inputs, # train inputs\n",
    "          train_targets, # train targets\n",
    "          batch_size=batch_size, # batch size\n",
    "          epochs=max_epochs, # epochs used if early stopping delays\n",
    "          \n",
    "          # callbacks called by a task when a checking for val_loss increases is completed\n",
    "          callbacks=[early_stopping], # early stopping\n",
    "          \n",
    "          validation_data=(validation_inputs, validation_targets), # validation data\n",
    "          \n",
    "          verbose = 2 #ensures that our training generates enough information\n",
    "          )  "
   ]
  },
  {
   "cell_type": "markdown",
   "metadata": {},
   "source": [
    "### Testing the model"
   ]
  },
  {
   "cell_type": "code",
   "execution_count": 4,
   "metadata": {
    "scrolled": true
   },
   "outputs": [
    {
     "name": "stdout",
     "output_type": "stream",
     "text": [
      "23/23 [==============================] - 0s 1ms/step - loss: 0.1369 - accuracy: 0.9371\n"
     ]
    }
   ],
   "source": [
    "#variables to contain the two outputs from the evaluate function\n",
    "#the default loss and whatever was specified in the 'metrics' argument when fitting the model\n",
    "test_loss, test_accuracy = model.evaluate(test_inputs, test_targets)"
   ]
  },
  {
   "cell_type": "code",
   "execution_count": 5,
   "metadata": {},
   "outputs": [
    {
     "name": "stdout",
     "output_type": "stream",
     "text": [
      "\n",
      "Test loss: 0.14. Test accuracy: 93.71%\n"
     ]
    }
   ],
   "source": [
    "# Printing results\n",
    "print('\\nTest loss: {0:.2f}. Test accuracy: {1:.2f}%'.format(test_loss, test_accuracy*100.))"
   ]
  },
  {
   "cell_type": "markdown",
   "metadata": {},
   "source": [
    "***The 93.71% accuracy is good!!*** compared to val_accuracy of 94.54%  from the trained model"
   ]
  },
  {
   "cell_type": "markdown",
   "metadata": {},
   "source": [
    "#### Observing predicted leaving employees from our test inputs"
   ]
  },
  {
   "cell_type": "code",
   "execution_count": 6,
   "metadata": {},
   "outputs": [
    {
     "data": {
      "text/plain": [
       "array([0, 1, 1, 0, 0, 0, 0, 0, 1, 1, 0, 1, 0, 1, 0, 0, 0, 1, 0, 0, 0, 0,\n",
       "       0, 1, 1, 1, 0, 0, 0, 0, 0, 1, 1, 0, 1, 1, 1, 1, 0, 0, 1, 0, 1, 0,\n",
       "       1, 0, 1, 0, 1, 1, 1, 1, 1, 1, 0, 0, 1, 0, 1, 1, 1, 0, 0, 1, 1, 1,\n",
       "       0, 1, 1, 1, 0, 1, 1, 1, 0, 1, 0, 0, 1, 0, 0, 0, 0, 0, 0, 0, 0, 0,\n",
       "       0, 1, 1, 0, 0, 1, 0, 1, 0, 0, 1, 1, 0, 0, 0, 0, 1, 0, 0, 0, 1, 1,\n",
       "       1, 1, 0, 1, 0, 1, 0, 1, 1, 0, 0, 0, 0, 0, 1, 0, 1, 0, 0, 0, 0, 1,\n",
       "       0, 0, 0, 1, 1, 0, 0, 1, 1, 1, 1, 0, 1, 1, 0, 1, 0, 0, 1, 1, 1, 1,\n",
       "       0, 1, 0, 1, 1, 0, 0, 1, 1, 0, 0, 0, 0, 0, 1, 0, 0, 0, 1, 0, 0, 1,\n",
       "       0, 0, 0, 1, 0, 1, 1, 1, 1, 1, 0, 1, 1, 1, 0, 0, 1, 0, 0, 0, 1, 0,\n",
       "       0, 0, 1, 0, 1, 1, 1, 0, 0, 1, 0, 0, 1, 1, 1, 1, 1, 1, 0, 0, 1, 0,\n",
       "       0, 1, 1, 0, 1, 0, 1, 1, 0, 1, 1, 0, 0, 0, 1, 1, 0, 0, 1, 0, 0, 0,\n",
       "       1, 1, 1, 0, 1, 0, 0, 0, 1, 0, 1, 0, 0, 0, 1, 1, 0, 0, 0, 0, 0, 1,\n",
       "       0, 1, 0, 1, 0, 1, 0, 0, 0, 1, 1, 1, 1, 0, 0, 1, 0, 0, 0, 1, 0, 1,\n",
       "       1, 1, 0, 0, 1, 0, 0, 0, 0, 1, 1, 1, 1, 0, 1, 1, 0, 0, 1, 0, 1, 0,\n",
       "       0, 0, 0, 1, 1, 0, 0, 1, 0, 0, 0, 1, 1, 0, 0, 0, 1, 1, 1, 1, 1, 0,\n",
       "       0, 1, 1, 1, 0, 0, 1, 1, 0, 1, 0, 1, 0, 0, 0, 1, 1, 1, 1, 1, 0, 0,\n",
       "       1, 0, 1, 0, 1, 0, 0, 1, 1, 1, 1, 1, 0, 1, 1, 1, 0, 0, 1, 0, 0, 0,\n",
       "       1, 0, 0, 1, 1, 1, 1, 1, 1, 1, 1, 0, 1, 0, 1, 0, 1, 1, 1, 0, 0, 0,\n",
       "       0, 1, 0, 1, 0, 0, 1, 0, 1, 0, 0, 1, 1, 0, 1, 1, 1, 1, 0, 1, 0, 1,\n",
       "       0, 1, 0, 0, 0, 1, 0, 1, 1, 1, 1, 0, 1, 1, 0, 0, 1, 1, 0, 0, 0, 1,\n",
       "       0, 0, 1, 1, 0, 0, 0, 0, 1, 1, 1, 0, 0, 1, 0, 1, 1, 1, 1, 0, 1, 1,\n",
       "       0, 1, 1, 1, 1, 1, 0, 1, 0, 0, 0, 0, 0, 1, 0, 0, 0, 1, 0, 0, 0, 0,\n",
       "       1, 1, 0, 1, 0, 0, 1, 0, 1, 0, 0, 0, 1, 0, 1, 0, 0, 1, 0, 1, 0, 0,\n",
       "       0, 0, 0, 0, 0, 0, 1, 0, 1, 0, 1, 1, 0, 1, 1, 1, 1, 0, 1, 0, 1, 0,\n",
       "       0, 1, 0, 0, 0, 1, 1, 1, 1, 0, 1, 1, 0, 1, 0, 0, 0, 0, 0, 0, 0, 0,\n",
       "       1, 0, 0, 0, 0, 0, 1, 1, 1, 0, 1, 1, 1, 1, 1, 1, 0, 0, 1, 0, 1, 0,\n",
       "       0, 1, 1, 0, 0, 0, 1, 1, 0, 0, 1, 1, 1, 0, 1, 0, 1, 0, 1, 0, 1, 0,\n",
       "       0, 0, 0, 0, 1, 1, 0, 1, 0, 0, 1, 1, 0, 0, 1, 1, 1, 1, 1, 0, 0, 1,\n",
       "       0, 0, 1, 1, 0, 0, 0, 1, 1, 1, 0, 1, 1, 0, 0, 1, 1, 1, 0, 0, 0, 0,\n",
       "       1, 0, 0, 0, 1, 0, 1, 0, 0, 0, 0, 0, 1, 1, 1, 0, 1, 1, 0, 0, 0, 0,\n",
       "       1, 0, 1, 0, 1, 1, 1, 0, 0, 1, 1, 0, 1, 1, 0, 1, 0, 1, 0, 0, 0, 0,\n",
       "       1, 0, 0, 0, 1, 1, 1, 1, 0, 0, 1, 1, 0, 1, 0, 0, 0, 1, 1, 0, 0, 1,\n",
       "       0, 1, 1, 1, 0, 0, 1, 0, 1, 0, 0], dtype=int64)"
      ]
     },
     "execution_count": 6,
     "metadata": {},
     "output_type": "execute_result"
    }
   ],
   "source": [
    "#getting the probability for an employee to leave\n",
    "# In our case, we want ot know which COLUMN has the higher argument (probability), therefore we set axis=1 (for columns)\n",
    "# The output would be the column ID with the highest probabilityfor each observation (row)\n",
    "np.argmax(model.predict(test_inputs),axis=1)"
   ]
  },
  {
   "cell_type": "markdown",
   "metadata": {},
   "source": [
    "The **1's indicate where the model has predicted a leaving employee** from our test inputs"
   ]
  },
  {
   "cell_type": "code",
   "execution_count": 7,
   "metadata": {},
   "outputs": [],
   "source": [
    "#saving the model using the built-in TensorFlow method and .h5 extension optimal for large numerical objects\n",
    "model.save('Employee_Attrition_model.h5') "
   ]
  }
 ],
 "metadata": {
  "kernelspec": {
   "display_name": "Python 3",
   "language": "python",
   "name": "python3"
  },
  "language_info": {
   "codemirror_mode": {
    "name": "ipython",
    "version": 3
   },
   "file_extension": ".py",
   "mimetype": "text/x-python",
   "name": "python",
   "nbconvert_exporter": "python",
   "pygments_lexer": "ipython3",
   "version": "3.8.5"
  }
 },
 "nbformat": 4,
 "nbformat_minor": 4
}
